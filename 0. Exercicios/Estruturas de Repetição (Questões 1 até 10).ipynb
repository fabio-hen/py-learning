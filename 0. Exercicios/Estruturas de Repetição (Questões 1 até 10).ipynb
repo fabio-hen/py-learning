{
 "cells": [
  {
   "cell_type": "markdown",
   "id": "ac60394f",
   "metadata": {},
   "source": [
    "# Estruturas de repetição\n",
    "\n",
    "<span style=\"color: red;\"><b>Todos os exercícios são feitos partindo-se do pressuposto de que todas as entradas são dadas de forma correta. Casos limite não mencionados no enunciado não são abordados porque não fazem parte do exercício.</b></span>"
   ]
  },
  {
   "cell_type": "markdown",
   "id": "017affd0",
   "metadata": {},
   "source": [
    "#### 1. Faça um programa que peça uma nota, entre zero e dez. Mostre uma mensagem caso o valor seja inválido e continue pedindo até que o usuário informe um valor válido."
   ]
  },
  {
   "cell_type": "code",
   "execution_count": null,
   "id": "5f12870d",
   "metadata": {},
   "outputs": [],
   "source": [
    "nota = float(input('Informe uma nota entre 0 e 10: '))\n",
    "while not (0 <= nota <= 10):\n",
    "    print('Nota inválida')\n",
    "    nota = float(input('Informe uma nota entre 0 e 10: '))"
   ]
  },
  {
   "cell_type": "markdown",
   "id": "dd0c6d56",
   "metadata": {},
   "source": [
    "#### 2. Faça um programa que leia um nome de usuário e a sua senha e não aceite a senha igual ao nome do usuário, mostrando uma mensagem de erro e voltando a pedir as informações."
   ]
  },
  {
   "cell_type": "code",
   "execution_count": null,
   "id": "f6579866",
   "metadata": {},
   "outputs": [],
   "source": [
    "login = input('Informe o login: ')\n",
    "senha = input('Informe o senha: ')\n",
    "while login == senha:\n",
    "    print('O login não pode ser igual à senha')\n",
    "    login = input('Informe o login: ')\n",
    "    senha = input('Informe o senha: ')"
   ]
  },
  {
   "cell_type": "markdown",
   "id": "ed113a82",
   "metadata": {},
   "source": [
    "#### 3. Faça um programa que leia e valide as seguintes informações:\n",
    "##### Nome: maior que 3 caracteres;\n",
    "##### Idade: entre 0 e 150;\n",
    "##### Salário: maior que zero;\n",
    "##### Sexo: 'f' ou 'm';\n",
    "##### Estado Civil: 's', 'c', 'v', 'd';"
   ]
  },
  {
   "cell_type": "code",
   "execution_count": null,
   "id": "3284f187",
   "metadata": {},
   "outputs": [],
   "source": [
    "nome = input('Informe o nome: ')\n",
    "\n",
    "while len(nome) < 4:\n",
    "    print('Insira um nome com mais de 3 caracteres')\n",
    "    nome = input('Informe o nome: ')\n",
    "    \n",
    "idade = int(input('Informe a idade: '))\n",
    "\n",
    "while not (0 <= idade <= 150):\n",
    "    print('Insira uma idade entre 0 e 150 anos')\n",
    "    idade = int(input('Informe a idade: '))\n",
    "    \n",
    "salario = float(input('Informe o salário: '))\n",
    "\n",
    "while salario <= 0:\n",
    "    print('Insira um salário maior que zero')\n",
    "    salario = float(input('Informe o salário: '))\n",
    "    \n",
    "genero = input('Informe o gênero \"f\" para feminino ou \"m\" para masculino: ')\n",
    "\n",
    "while not genero in ['f', 'm']:\n",
    "    print('Insira um gênero válido')\n",
    "    genero = input('Informe o gênero \"f\" para feminino ou \"m\" para masculino: ')\n",
    "    \n",
    "estado_civil = input('Informe o estado civil \"s\", \"c\", \"v\" ou \"d\": ')\n",
    "\n",
    "while not estado_civil in ['s', 'c', 'v', 'd']:\n",
    "    print('Insira um estado civil válido')\n",
    "    estado_civil = input('Informe o estado civil \"s\", \"c\", \"v\" ou \"d\": ')"
   ]
  },
  {
   "cell_type": "markdown",
   "id": "2f25dceb",
   "metadata": {},
   "source": [
    "#### 4. Supondo que a população de um país A seja da ordem de 80000 habitantes com uma taxa anual de crescimento de 3% e que a população de B seja 200000 habitantes com uma taxa de crescimento de 1.5%. Faça um programa que calcule e escreva o número de anos necessários para que a população do país A ultrapasse ou iguale a população do país B, mantidas as taxas de crescimento."
   ]
  },
  {
   "cell_type": "code",
   "execution_count": null,
   "id": "7ad0f5e9",
   "metadata": {},
   "outputs": [],
   "source": [
    "populacao_A = 80000\n",
    "populacao_B = 200000\n",
    "\n",
    "tempo = 0\n",
    "\n",
    "while populacao_A < populacao_B:\n",
    "    populacao_A *= 1.03\n",
    "    populacao_B *= 1.015\n",
    "    tempo += 1\n",
    "\n",
    "print('São necessários', tempo, 'anos para a população A igualar ou superar a população B')"
   ]
  },
  {
   "cell_type": "markdown",
   "id": "e9626858",
   "metadata": {},
   "source": [
    "#### 5. Altere o programa anterior permitindo ao usuário informar as populações e as taxas de crescimento iniciais. Valide a entrada e permita repetir a operação."
   ]
  },
  {
   "cell_type": "code",
   "execution_count": null,
   "id": "c7e250a4",
   "metadata": {},
   "outputs": [],
   "source": [
    "repete = 's'\n",
    "\n",
    "while repete == 's':\n",
    "\n",
    "    populacao_A = int(input('Informe a população A: '))\n",
    "    populacao_B = int(input('Informe a população B: '))\n",
    "\n",
    "    while populacao_A <= 0 or populacao_B <= 0:\n",
    "        print('As populações precisam ser maiores que zero')\n",
    "        populacao_A = int(input('Informe a população A: '))\n",
    "        populacao_B = int(input('Informe a população B: '))\n",
    "\n",
    "    taxa_A = float(input('Informe a taxa de crescimento da população A em porcentagem (exemplo: entre 3 para 3%): '))\n",
    "    taxa_B = float(input('Informe a taxa de crescimento da população A em porcentagem (exemplo: entre 3 para 3%): '))\n",
    "\n",
    "    while taxa_A <= 0 or taxa_B <= 0:\n",
    "        print('As taxas precisam ser maiores que zero')\n",
    "        taxa_A = float(input('Informe a taxa de crescimento da população A em porcentagem (exemplo: entre 3 para 3%): '))\n",
    "        taxa_B = float(input('Informe a taxa de crescimento da população A em porcentagem (exemplo: entre 3 para 3%): '))\n",
    "\n",
    "    taxa_A = taxa_A / 100 + 1\n",
    "    taxa_B = taxa_B / 100 + 1\n",
    "\n",
    "    tempo = 0\n",
    "\n",
    "    while populacao_A < populacao_B:\n",
    "        populacao_A *= taxa_A\n",
    "        populacao_B *= taxa_B\n",
    "        tempo += 1\n",
    "\n",
    "    print('São necessários', tempo, 'anos para a população A igualar ou superar a população B')\n",
    "    \n",
    "    repete = input('Deseja repetir a operação? Tecle \"s\" para sim, qualquer outra tecla para não.')"
   ]
  },
  {
   "cell_type": "markdown",
   "id": "92d63f0e",
   "metadata": {},
   "source": [
    "#### 6. Faça um programa que imprima na tela os números de 1 a 20, um abaixo do outro. "
   ]
  },
  {
   "cell_type": "code",
   "execution_count": null,
   "id": "8cae1511",
   "metadata": {},
   "outputs": [],
   "source": [
    "for i in range(1, 21):\n",
    "    print(i)"
   ]
  },
  {
   "cell_type": "markdown",
   "id": "70106cdf",
   "metadata": {},
   "source": [
    "#### Depois modifique o programa para que ele mostre os números um ao lado do outro."
   ]
  },
  {
   "cell_type": "code",
   "execution_count": null,
   "id": "66ea2651",
   "metadata": {},
   "outputs": [],
   "source": [
    "for i in range(20):\n",
    "    print(i + 1, end=' ')"
   ]
  },
  {
   "cell_type": "markdown",
   "id": "b3d268b5",
   "metadata": {},
   "source": [
    "#### 7. Faça um programa que leia 5 números e informe o maior número."
   ]
  },
  {
   "cell_type": "code",
   "execution_count": null,
   "id": "8078e7a5",
   "metadata": {},
   "outputs": [],
   "source": [
    "numero = float('-inf') # isso significa menos infinito\n",
    "for _ in range(5):\n",
    "    novo_numero = float(input('Informe um número:'))\n",
    "    if novo_numero > numero:\n",
    "        numero = novo_numero\n",
    "\n",
    "print(numero, 'é o maior número')"
   ]
  },
  {
   "cell_type": "markdown",
   "id": "6407824c",
   "metadata": {},
   "source": [
    "#### 8. Faça um programa que leia 5 números e informe a soma e a média dos números."
   ]
  },
  {
   "cell_type": "code",
   "execution_count": null,
   "id": "a02320d1",
   "metadata": {},
   "outputs": [],
   "source": [
    "total = 0\n",
    "\n",
    "for _ in range(5):\n",
    "    numero = float(input('Informe um número:'))\n",
    "    total += numero\n",
    "    \n",
    "print('A soma é', total)\n",
    "print('A média é', total/5)"
   ]
  },
  {
   "cell_type": "markdown",
   "id": "053a26b3",
   "metadata": {},
   "source": [
    "#### 9. Faça um programa que imprima na tela apenas os números ímpares entre 1 e 50."
   ]
  },
  {
   "cell_type": "code",
   "execution_count": null,
   "id": "7d15cb44",
   "metadata": {},
   "outputs": [],
   "source": [
    "# números pares quando divididos por dois têm resto 0\n",
    "# números ímpares quando divididos por dois têm resto 1\n",
    "# o operador para calcular resto em Python é o %\n",
    "# em x = 8 % 3 a variavel x vai conter o valor do resto da divisao de 8 por 3, que eh 2\n",
    "\n",
    "for i in range(50):\n",
    "    if (i + 1) % 2 == 1:\n",
    "        print(i + 1)"
   ]
  },
  {
   "cell_type": "markdown",
   "id": "e3efa0fe",
   "metadata": {},
   "source": [
    "#### 10. Faça um programa que receba dois números inteiros e gere os números inteiros que estão no intervalo compreendido por eles."
   ]
  },
  {
   "cell_type": "code",
   "execution_count": null,
   "id": "09d760f5",
   "metadata": {},
   "outputs": [],
   "source": [
    "numero1 = int(input('Informe o primeiro número inteiro:'))\n",
    "numero2 = int(input('Informe o segundo número inteiro:'))\n",
    "\n",
    "if numero1 > numero2:\n",
    "    numero1 -= 1\n",
    "    while numero1 != numero2:\n",
    "        print(numero1)\n",
    "        numero1 -= 1\n",
    "elif numero2 > numero1:\n",
    "    numero2 -= 1\n",
    "    while numero1 != numero2:\n",
    "        print(numero2)\n",
    "        numero2 -= 1"
   ]
  }
 ],
 "metadata": {
  "kernelspec": {
   "display_name": "Python 3 (ipykernel)",
   "language": "python",
   "name": "python3"
  },
  "language_info": {
   "codemirror_mode": {
    "name": "ipython",
    "version": 3
   },
   "file_extension": ".py",
   "mimetype": "text/x-python",
   "name": "python",
   "nbconvert_exporter": "python",
   "pygments_lexer": "ipython3",
   "version": "3.9.12"
  }
 },
 "nbformat": 4,
 "nbformat_minor": 5
}

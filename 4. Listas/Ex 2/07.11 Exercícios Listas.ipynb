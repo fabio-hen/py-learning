{
 "cells": [
  {
   "cell_type": "markdown",
   "metadata": {},
   "source": [
    "# Exercícios\n",
    "\n",
    "## 1. Mudança de Carga Tributária\n",
    "\n",
    "- Reformas e mudanças de cargas tributárias são bem comuns no Brasil.\n",
    "\n",
    "Digamos que você trabalhe em uma empresa de ecommerce\n",
    "\n",
    "No Brasil, o imposto sobre livros é zerado. De um ano para o outro, o governo criou um novo imposto que incide em 10% sobre o valor dos livros e agora você precisa alterar o registro dos preços dos livros da empresa para garantir que esse imposto vai ser repassado para o preço final do produto.\n",
    "\n",
    "Crie um código que recalcule o valor do livro da sua lista de produtos e ajuste na tabela.\n",
    "\n",
    "Além disso, calcule qual vai ser o impacto financeiro da criação desse imposto para a empresa (ou seja, quanto que o imposto vai aumentar de custo para a empresa)\n",
    "\n",
    "Obs: para facilitar, colocamos apenas 1 livro na lista, mas em breve vamos aprender um for que vai adaptar esse cenário para qualquer quantidade de livros na sua lista.\n",
    "\n",
    "Obs2: Seu código deve funcionar mesmo que não haja livros na lista de produtos da empresa"
   ]
  },
  {
   "cell_type": "code",
   "execution_count": 28,
   "metadata": {},
   "outputs": [
    {
     "name": "stdout",
     "output_type": "stream",
     "text": [
      "O valor antigo do livro era de 40\n",
      "O valor atualizado do livro é de 44.0\n",
      "O imposto cobrado por livro é de 4.0\n",
      "O valor do imposto total sobre os livro é de 200,000.0\n"
     ]
    }
   ],
   "source": [
    "produtos = ['computador', 'livro', 'tablet', 'celular', 'tv', 'ar condicionado', 'alexa', 'máquina de café', 'kindle']\n",
    "\n",
    "#cada item da lista dos produtos corresponde a quantidade de vendas no mês e preço, nessa ordem\n",
    "produtos_ecommerce = [\n",
    "    [10000, 2500],\n",
    "    [50000, 40],\n",
    "    [7000, 1200],\n",
    "    [20000, 1500],\n",
    "    [5800, 1300],\n",
    "    [7200, 2500],\n",
    "    [200, 800],\n",
    "    [3300, 700],\n",
    "    [1900, 400]\n",
    "]\n",
    "prod = input('Qual produto você quer alterar?')\n",
    "\n",
    "if prod in produtos:\n",
    "    prod_i = produtos.index(prod)                       #grava o index do produto\n",
    "    imposto = input('Qual o valor do novo inposto?')  #pergunta o imposto do produto\n",
    "    imposto = int(imposto)\n",
    "    prec_ant = produtos_ecommerce [prod_i][1]\n",
    "    prec_ant = int(prec_ant)\n",
    "    prec_nov = (prec_ant * (imposto/100)) + prec_ant\n",
    "    qtd_vend = produtos_ecommerce [prod_i][0]\n",
    "\n",
    "    produtos_ecommerce [prod_i][1] = (preco * (imposto/100)) + preco #\n",
    "\n",
    "    print('O valor antigo do {} era de {}'.format(prod, prec_ant))\n",
    "    print('O valor atualizado do {} é de {}'.format(prod, prec_nov))\n",
    "    print('O imposto cobrado por {} é de {}'.format(prod, prec_nov - prec_ant))    \n",
    "    print('O valor do imposto total sobre os {} é de {:,}'.format(prod, (prec_nov - prec_ant) * qtd_vend))\n",
    "\n",
    "else:\n",
    "    print('Esse produto não existe')\n"
   ]
  }
 ],
 "metadata": {
  "kernelspec": {
   "display_name": "Python 3.10.5 64-bit",
   "language": "python",
   "name": "python3"
  },
  "language_info": {
   "codemirror_mode": {
    "name": "ipython",
    "version": 3
   },
   "file_extension": ".py",
   "mimetype": "text/x-python",
   "name": "python",
   "nbconvert_exporter": "python",
   "pygments_lexer": "ipython3",
   "version": "3.10.5"
  },
  "vscode": {
   "interpreter": {
    "hash": "6f59339097bb9ac4cf41ab9fa2e7f783ea6bb84442f6ce2c2671fa41ded377c2"
   }
  }
 },
 "nbformat": 4,
 "nbformat_minor": 4
}

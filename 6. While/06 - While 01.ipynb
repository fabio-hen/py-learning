{
 "cells": [
  {
   "cell_type": "markdown",
   "metadata": {},
   "source": [
    "# Estrutura while:\n",
    "\n",
    "### Funcionamento:\n",
    "\n",
    "Usamos o while quando queremos repetir um código de forma indeterminada até uma condição se tornar verdadeira/falsa.\n",
    "\n",
    "A lógica é: enquanto a condição for verdadeira, o while executa o código. Assim que ela terminar de ser verdadeira, o código \"sai\" do while."
   ]
  },
  {
   "cell_type": "raw",
   "metadata": {},
   "source": [
    "while condicao:\n",
    "    repete esse código"
   ]
  },
  {
   "cell_type": "markdown",
   "metadata": {},
   "source": [
    "- Exemplo: Quando criamos automações na internet\n",
    "- Exemplo2: Crie um programa que funcione como o registro de vendas de uma empresa.\n",
    "\n",
    "Nele, a pessoa deve inserir o nome do produto e o produto deve ser adicionado na lista de venda. Enquanto o usuário não encerrar o programa, significa que ele está registrando novos produtos, então o programa deve permitir e entrada de quantos produtos o usuário quiser."
   ]
  },
  {
   "cell_type": "code",
   "execution_count": 3,
   "metadata": {},
   "outputs": [
    {
     "name": "stdout",
     "output_type": "stream",
     "text": [
      "Registro Finalizado. As vendas cadastradas foram: ['coca', 'arroz', 'sabao']\n"
     ]
    }
   ],
   "source": [
    "venda = input('Registre um produto. Para cancelar o registro de um novo produto, basta apertar enter com a caixa vazia')\n",
    "vendas = []\n",
    "#crie aqui o programa\n",
    "while venda != '':\n",
    "    vendas.append(venda)\n",
    "    venda = input('Registre um produto. Para cancelar o registro de um novo produto, basta apertar enter com a caixa vazia')\n",
    "\n",
    "print('Registro Finalizado. As vendas cadastradas foram: {}'.format(vendas))"
   ]
  }
 ],
 "metadata": {
  "kernelspec": {
   "display_name": "Python 3.10.5 64-bit",
   "language": "python",
   "name": "python3"
  },
  "language_info": {
   "codemirror_mode": {
    "name": "ipython",
    "version": 3
   },
   "file_extension": ".py",
   "mimetype": "text/x-python",
   "name": "python",
   "nbconvert_exporter": "python",
   "pygments_lexer": "ipython3",
   "version": "3.10.5"
  },
  "vscode": {
   "interpreter": {
    "hash": "6f59339097bb9ac4cf41ab9fa2e7f783ea6bb84442f6ce2c2671fa41ded377c2"
   }
  }
 },
 "nbformat": 4,
 "nbformat_minor": 4
}

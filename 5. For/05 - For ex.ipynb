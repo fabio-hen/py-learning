{
 "cells": [
  {
   "cell_type": "markdown",
   "metadata": {},
   "source": [
    "# Exercícios\n",
    "\n",
    "## 1. Criando um Registro de Hóspedes\n",
    "\n",
    "Digamos que você está criando o sistema para registrar a chegada de hóspedes em um hotel. No hotel, os hóspedes podem ter quartos com 1, 2, 3 e 4 pessoas. Seu sistema deve conseguir:\n",
    "\n",
    "1. Identificar quantas pessoas o hóspede que acabou de chegar vai ter no quarto (perguntando por meio de input)\n",
    "2. De acordo com a quantidade de pessoas do hóspede, ele deve fazer um for para perguntar o cpf e o nome de cada pessoa, a fim de registrá-la no quarto (2 inputs para cada pessoa, 1 para o cpf e outro para o nome)\n",
    "3. O seu programa então deve gerar uma lista com todas as pessoas que ficarão no quarto em que cada item dessa lista é o nome da pessoa e o cpf da pessoa, assim:"
   ]
  },
  {
   "cell_type": "raw",
   "metadata": {},
   "source": [
    "quarto = [\n",
    "    ['João', 'cpf:00000000000'],\n",
    "    ['Julia', 'cpf:11111111111'],\n",
    "    ['Marcus', 'cpf:22222222222'],\n",
    "    ['Maria', 'cpf:33333333333'],\n",
    "]\n"
   ]
  },
  {
   "cell_type": "markdown",
   "metadata": {},
   "source": [
    "- Para simplificar, não vamos nos preocupar com possibilidades de \"tentar colocar mais de 1 hóspede, digitar o cpf errado, etc. Nosso objetivo é treinar a criação de uma rotina de cadastro"
   ]
  },
  {
   "cell_type": "code",
   "execution_count": 2,
   "metadata": {},
   "outputs": [
    {
     "name": "stdout",
     "output_type": "stream",
     "text": [
      "****************************************\n",
      "           BEM VINDO AO HOTEL           \n",
      "          SISTEMA DE CADASTRO           \n",
      "**************************************** \n",
      "\n"
     ]
    },
    {
     "ename": "ValueError",
     "evalue": "invalid literal for int() with base 10: ''",
     "output_type": "error",
     "traceback": [
      "\u001b[1;31m---------------------------------------------------------------------------\u001b[0m",
      "\u001b[1;31mValueError\u001b[0m                                Traceback (most recent call last)",
      "\u001b[1;32md:\\OneDrive\\Documentos\\Python\\Curso\\5. For\\Ex 1\\08.04.01 Exercícios de For.ipynb Célula: 4\u001b[0m in \u001b[0;36m<cell line: 7>\u001b[1;34m()\u001b[0m\n\u001b[0;32m      <a href='vscode-notebook-cell:/d%3A/OneDrive/Documentos/Python/Curso/5.%20For/Ex%201/08.04.01%20Exerc%C3%ADcios%20de%20For.ipynb#ch0000003?line=3'>4</a>\u001b[0m \u001b[39mprint\u001b[39m(\u001b[39m'\u001b[39m\u001b[39mSISTEMA DE CADASTRO\u001b[39m\u001b[39m'\u001b[39m\u001b[39m.\u001b[39mcenter(\u001b[39m40\u001b[39m))\n\u001b[0;32m      <a href='vscode-notebook-cell:/d%3A/OneDrive/Documentos/Python/Curso/5.%20For/Ex%201/08.04.01%20Exerc%C3%ADcios%20de%20For.ipynb#ch0000003?line=4'>5</a>\u001b[0m \u001b[39mprint\u001b[39m(\u001b[39m'\u001b[39m\u001b[39m*\u001b[39m\u001b[39m'\u001b[39m\u001b[39m*\u001b[39m\u001b[39m40\u001b[39m, \u001b[39m'\u001b[39m\u001b[39m\\n\u001b[39;00m\u001b[39m'\u001b[39m)\n\u001b[1;32m----> <a href='vscode-notebook-cell:/d%3A/OneDrive/Documentos/Python/Curso/5.%20For/Ex%201/08.04.01%20Exerc%C3%ADcios%20de%20For.ipynb#ch0000003?line=6'>7</a>\u001b[0m qtd_p \u001b[39m=\u001b[39m \u001b[39mint\u001b[39;49m(\u001b[39minput\u001b[39;49m(\u001b[39m'\u001b[39;49m\u001b[39mQuantas pessoas? \u001b[39;49m\u001b[39m'\u001b[39;49m))\n\u001b[0;32m      <a href='vscode-notebook-cell:/d%3A/OneDrive/Documentos/Python/Curso/5.%20For/Ex%201/08.04.01%20Exerc%C3%ADcios%20de%20For.ipynb#ch0000003?line=7'>8</a>\u001b[0m quarto \u001b[39m=\u001b[39m []\n\u001b[0;32m     <a href='vscode-notebook-cell:/d%3A/OneDrive/Documentos/Python/Curso/5.%20For/Ex%201/08.04.01%20Exerc%C3%ADcios%20de%20For.ipynb#ch0000003?line=9'>10</a>\u001b[0m \u001b[39mfor\u001b[39;00m i \u001b[39min\u001b[39;00m \u001b[39mrange\u001b[39m(qtd_p):\n",
      "\u001b[1;31mValueError\u001b[0m: invalid literal for int() with base 10: ''"
     ]
    }
   ],
   "source": [
    "#seu código aqui\n",
    "print('*'*40)\n",
    "print('BEM VINDO AO HOTEL'.center(40))\n",
    "print('SISTEMA DE CADASTRO'.center(40))\n",
    "print('*'*40, '\\n')\n",
    "\n",
    "qtd_p = int(input('Quantas pessoas? '))\n",
    "quarto = []\n",
    "\n",
    "for i in range(qtd_p):\n",
    "    nome = input('Qual o nome da pessoa? ')\n",
    "    cpf = input('Qual o CPF?')\n",
    "    cpf = '{}{}{}.{}{}{}.{}{}{}-{}{}'.format(*cpf)\n",
    "    hospede = [nome, cpf]\n",
    "    quarto.append(hospede)\n",
    "\n",
    "\n",
    "for i, ind in enumerate(quarto):\n",
    "    print(f'NOME: {quarto[i][0]:15}', f'CPF: {quarto[i][1]:>14}')\n"
   ]
  },
  {
   "cell_type": "markdown",
   "metadata": {},
   "source": [
    "## 2. Análise de Vendas\n",
    "\n",
    "Nesse exercício vamos fazer uma \"análise simples\" de atingimento de Meta.\n",
    "\n",
    "Temos uma lista com os vendedores e os valores de vendas e queremos identificar (printar) quais os vendedores que bateram a meta e qual foi o valor que eles venderam."
   ]
  },
  {
   "cell_type": "code",
   "execution_count": 3,
   "metadata": {},
   "outputs": [
    {
     "name": "stdout",
     "output_type": "stream",
     "text": [
      "======== \u001b[0;30;44mVENDEDORE QUE\u001b[0m \u001b[92mBATERAM\u001b[0m \u001b[0;30;44mA META\u001b[0m ========\n",
      "NOME: João            VENDAS: 15.000 UNIDADES\n",
      "NOME: Julia           VENDAS: 27.000 UNIDADES\n",
      "NOME: Ana             VENDAS: 10.300 UNIDADES\n",
      "\n",
      " ======== \u001b[0;30;44mVENDEDORE QUE\u001b[0m \u001b[91mNÃO BATERAM\u001b[0m \u001b[0;30;44mA META\u001b[0m ========\n",
      "NOME: Marcus          VENDAS: 9.900 UNIDADES\n",
      "NOME: Maria           VENDAS: 3.750 UNIDADES\n",
      "NOME: Alon            VENDAS: 7.870 UNIDADES\n"
     ]
    }
   ],
   "source": [
    "meta = 10000\n",
    "vendas = [\n",
    "    ['João', 15000],\n",
    "    ['Julia', 27000],\n",
    "    ['Marcus', 9900],\n",
    "    ['Maria', 3750],\n",
    "    ['Ana', 10300],\n",
    "    ['Alon', 7870],\n",
    "]\n",
    "#seu código aqui\n",
    "\n",
    "print('='*8,'\\033[0;30;44mVENDEDORE QUE\\033[0m \\033[92mBATERAM\\033[0m \\033[0;30;44mA META\\033[0m', '='*8)\n",
    "for i in vendas:\n",
    "    if i[1] >= meta:\n",
    "        print('NOME: {:<15}'.format(i[0]),'VENDAS: {:_} UNIDADES'.format(i[1]).replace('_','.'))\n",
    "\n",
    "print('\\n','='*8,'\\033[0;30;44mVENDEDORE QUE\\033[0m \\033[91mNÃO BATERAM\\033[0m \\033[0;30;44mA META\\033[0m', '='*8)\n",
    "\n",
    "for i in vendas:\n",
    "    if i[1] < meta:\n",
    "        print('NOME: {:<15}'.format(i[0]),'VENDAS: {:_} UNIDADES'.format(i[1]).replace('_','.'))\n"
   ]
  },
  {
   "cell_type": "markdown",
   "metadata": {},
   "source": [
    "## 3. Comparação com Ano Anterior\n",
    "\n",
    "Digamos que você está analisando as vendas de produtos de um ecommerce e quer identificar quais produtos tiveram no ano de 2020 mais vendas do que no ano de 2019, para reportar isso para a diretoria.\n",
    "\n",
    "Sua resposta pode ser um print de cada produto, qual foi a venda de 2019, a venda de 2020 e o % de crescimento de 2020 para 2019.\n",
    "\n",
    "Lembrando, para calcular o % de crescimento de um produto de um ano para o outro, podemos fazer: (vendas_produto2020/vendas_produto2019 - 1)\n",
    "\n",
    "Dica: lembre do enumerate, ele pode facilitar seu \"for\""
   ]
  },
  {
   "cell_type": "code",
   "execution_count": 58,
   "metadata": {},
   "outputs": [
    {
     "name": "stdout",
     "output_type": "stream",
     "text": [
      "      PRODUTOS       |     VENDAS 2019      |     VENDAS 2020      |   CRESCIMENTO (%)    \n",
      "----------------------------------------------------------------------------------------\n",
      "iphone               |      558147       |      951642       |        70.50%        \n",
      "tv                   |      405252       |      787604       |        94.35%        \n",
      "máquina de café      |      718654       |      867660       |        20.73%        \n",
      "notebook dell        |      422760       |      694913       |        64.38%        \n",
      "notebook hp          |      154753       |      539704       |       248.75%        \n",
      "microsoft surface    |      438508       |      667179       |        52.15%        \n",
      "webcam               |      237467       |      295633       |        24.49%        \n",
      "caixa de som         |      489705       |      725316       |        48.11%        \n",
      "microfone            |      328311       |      644622       |        96.34%        \n",
      "câmera canon         |      591120       |      994303       |        68.21%        \n"
     ]
    }
   ],
   "source": [
    "produtos = ['iphone', 'galaxy', 'ipad', 'tv', 'máquina de café', 'kindle', 'geladeira', 'adega', 'notebook dell', 'notebook hp', 'notebook asus', 'microsoft surface', 'webcam', 'caixa de som', 'microfone', 'câmera canon']\n",
    "vendas2019 = [558147,712350,573823,405252,718654,531580,973139,892292,422760,154753,887061,438508,237467,489705,328311,591120]\n",
    "vendas2020 = [951642,244295,26964,787604,867660,78830,710331,646016,694913,539704,324831,667179,295633,725316,644622,994303]\n",
    "\n",
    "#seu código aqui\n",
    "\n",
    "print(\"{:^20} | {:^20} | {:^20} | {:^20} \".format(\"PRODUTOS\", \"VENDAS 2019\", \"VENDAS 2020\", \"CRESCIMENTO (%)\"))\n",
    "print(\"----------------------------------------------------------------------------------------\")\n",
    "\n",
    "for i, produto in enumerate(produtos):\n",
    "    cresc = vendas2020[i] / vendas2019[i] - 1\n",
    "    if cresc > 0:\n",
    "        print(\"{:<20} | {:^17} | {:^17} | {:^20.2%} \".format(produto, vendas2019[i], vendas2020[i], cresc))\n",
    "\n",
    "\n"
   ]
  }
 ],
 "metadata": {
  "kernelspec": {
   "display_name": "Python 3.10.5 64-bit",
   "language": "python",
   "name": "python3"
  },
  "language_info": {
   "codemirror_mode": {
    "name": "ipython",
    "version": 3
   },
   "file_extension": ".py",
   "mimetype": "text/x-python",
   "name": "python",
   "nbconvert_exporter": "python",
   "pygments_lexer": "ipython3",
   "version": "3.10.5"
  },
  "vscode": {
   "interpreter": {
    "hash": "6f59339097bb9ac4cf41ab9fa2e7f783ea6bb84442f6ce2c2671fa41ded377c2"
   }
  }
 },
 "nbformat": 4,
 "nbformat_minor": 4
}

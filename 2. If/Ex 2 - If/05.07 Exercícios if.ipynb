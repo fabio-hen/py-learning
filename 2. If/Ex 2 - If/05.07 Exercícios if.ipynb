{
 "cells": [
  {
   "cell_type": "markdown",
   "metadata": {},
   "source": [
    "# Exercícios"
   ]
  },
  {
   "cell_type": "markdown",
   "metadata": {},
   "source": [
    "## 1. Criando um mini sistema de controle de estoque\n",
    "\n",
    "- Crie um sistema para ser usado pelo time de controle de estoque de um centro de distribuição.\n",
    "- Imagine que ao fim de todo dia, o time conta quantas unidades de produto existem no estoque. Se tivermos um estoque abaixo do estoque permitido para aquela categoria do produto, o time deve ser avisado (print) para fazer um novo pedido daquele produto.\n",
    "- Cada categoria de produto tem um estoque mínimo diferente, segundo a regra abaixo:\n",
    "\n",
    "- alimentos -> Estoque mínimo: 50\n",
    "- bebidas -> Estoque mínimo: 75\n",
    "- limpeza -> Estoque mínimo: 30\n",
    "\n",
    "Para isso vamos criar um programa que pede 3 inputs do usuário: nome do produto, categoria e quantidade atual em estoque.\n",
    "\n",
    "Se o produto tiver abaixo do estoque mínimo da categoria dele, o programa deve printar a mensagem \"Solicitar {produto} à equipe de compras, temos apenas {unidades} em estoque\"\n",
    "\n",
    "Exemplo: Se o usuário preenche os inputs com: bebidas, dolly, 90, o programa não deve exibir nenhuma mensagem.<br>\n",
    "Agora, se o usuário preenche os inputs com: bebidas, guaraná, 60, o programa deve exibir a mensagem \"Solicitar guaraná à equipe de compras, temos apenas 60 unidades em estoque.\n",
    "\n",
    "Obs: lembre de usar o int() para transformar o número inserido pelo usuário no input de string para int.<br>\n",
    "Obs2: Caso o usuário não preencha alguma das 3 informações, o programa deve exibir uma mensagem para avisá-lo de preencher corretamente."
   ]
  },
  {
   "cell_type": "code",
   "execution_count": 12,
   "metadata": {},
   "outputs": [
    {
     "name": "stdout",
     "output_type": "stream",
     "text": [
      "Solicitar veja a equipe de compras, temos apenas 5 unidades do estoque\n"
     ]
    }
   ],
   "source": [
    "#seu código aqui\n",
    "alimento = 50\n",
    "bebidas = 75\n",
    "limpeza = 30\n",
    "produto = input('Digite o nome do produto')\n",
    "categoria = input('Qula a categoria do produto?')\n",
    "qtd = int(input('Qual a quantidade de produto no estoque?'))\n",
    "\n",
    "if produto == '':\n",
    "    print('Digite o nome do produto')\n",
    "elif categoria == '':\n",
    "    print('Digite o nome a categoria do produto')\n",
    "elif qtd == '':\n",
    "    print('Digite a quantidade do produto')  \n",
    "\n",
    "else:\n",
    "    if  ('alimento' in categoria) and (qtd < alimento):\n",
    "        print('Solicitar {} a equipe de compras, temos apenas {} unidades do estoque'.format(produto, qtd))\n",
    "    if  ('bebidas' in categoria) and (qtd < bebidas):\n",
    "        print('Solicitar {} a equipe de compras, temos apenas {} unidades do estoque'.format(produto, qtd))\n",
    "    if  ('limpeza' in categoria) and (qtd < limpeza):\n",
    "        print('Solicitar {} a equipe de compras, temos apenas {} unidades do estoque'.format(produto, qtd))\n"
   ]
  }
 ],
 "metadata": {
  "kernelspec": {
   "display_name": "Python 3.10.5 64-bit",
   "language": "python",
   "name": "python3"
  },
  "language_info": {
   "codemirror_mode": {
    "name": "ipython",
    "version": 3
   },
   "file_extension": ".py",
   "mimetype": "text/x-python",
   "name": "python",
   "nbconvert_exporter": "python",
   "pygments_lexer": "ipython3",
   "version": "3.10.5"
  },
  "vscode": {
   "interpreter": {
    "hash": "6f59339097bb9ac4cf41ab9fa2e7f783ea6bb84442f6ce2c2671fa41ded377c2"
   }
  }
 },
 "nbformat": 4,
 "nbformat_minor": 4
}
